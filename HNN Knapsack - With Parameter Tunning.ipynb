{
 "cells": [
  {
   "cell_type": "markdown",
   "metadata": {},
   "source": [
    "# HNN Knapsack"
   ]
  },
  {
   "cell_type": "markdown",
   "metadata": {},
   "source": [
    "## Section 2: HNN Model - Without Parameter Tunning"
   ]
  },
  {
   "cell_type": "markdown",
   "metadata": {},
   "source": [
    "### 1. Load Packages"
   ]
  },
  {
   "cell_type": "code",
   "execution_count": null,
   "metadata": {},
   "outputs": [],
   "source": [
    "import numpy as np\n",
    "import pandas as pd\n",
    "import json\n",
    "import time\n",
    "from tqdm import tqdm"
   ]
  },
  {
   "cell_type": "markdown",
   "metadata": {},
   "source": [
    "### 2. Read Processed Data"
   ]
  },
  {
   "cell_type": "code",
   "execution_count": null,
   "metadata": {},
   "outputs": [],
   "source": [
    "def read_json_to_dict(file_path):\n",
    "    with open(file_path, 'r') as json_file:\n",
    "        data_dict = json.load(json_file)\n",
    "    return data_dict\n",
    "\n",
    "data = read_json_to_dict('data/data2.json')"
   ]
  },
  {
   "cell_type": "markdown",
   "metadata": {},
   "source": [
    "### 3. HNN Model"
   ]
  },
  {
   "cell_type": "code",
   "execution_count": null,
   "metadata": {},
   "outputs": [],
   "source": [
    "import torch\n",
    "import torch.nn as nn\n",
    "\n",
    "class HNNKnapsackYT(nn.Module):\n",
    "\n",
    "    def __init__(self, data, alpha, rep, is_solve_special_zone=True, is_solve_opt_priority=True):\n",
    "        super(HNNKnapsackYT, self).__init__()\n",
    "        \n",
    "        # Parameters\n",
    "        self.alpha = alpha\n",
    "        self.rep = rep\n",
    "        self.device = torch.device(\"cuda\" if torch.cuda.is_available() else \"cpu\")\n",
    "        self.is_solve_special_zone = is_solve_special_zone\n",
    "        self.is_solve_opt_priority = is_solve_opt_priority\n",
    "\n",
    "        # Load data\n",
    "        self.data = data\n",
    "        self.stor_idnt = data['stor_idnt']\n",
    "        self.stor_spco = data['stor_spco']\n",
    "        self.stor_spcs = data['stor_spcs']\n",
    "        self.prod_idnt = torch.tensor(data['prod_idnt'], dtype=torch.float32).flatten().to(self.device)\n",
    "        self.prod_spco = torch.tensor(data['prod_spco'], dtype=torch.float32).flatten().to(self.device)\n",
    "        self.prod_kpi1 = torch.tensor(data['prod_kpi1'], dtype=torch.float32).flatten().to(self.device)\n",
    "        self.prod_kpi2 = torch.tensor(data['prod_kpi2'], dtype=torch.float32).flatten().to(self.device)\n",
    "        self.prod_kpic = torch.tensor(data['prod_kpic'], dtype=torch.float32).flatten().to(self.device)\n",
    "        self.prod_optg = torch.tensor(data['prod_optg'], dtype=torch.float32).flatten().to(self.device)\n",
    "        self.prod_sztg = torch.tensor(data['prod_sztg'], dtype=torch.float32).flatten().to(self.device)\n",
    "        self.prod_sztn = torch.tensor(data['prod_sztn'], dtype=torch.float32).flatten().to(self.device)\n",
    "\n",
    "        # Penalization weights\n",
    "        self.T_List = (10 * torch.logspace(0, 2000, steps=rep, base=0.99)).to(self.device)\n",
    "    \n",
    "    # Activation and penalization functions\n",
    "    # Activation function\n",
    "    def sigmoid(self, value):\n",
    "        return torch.sigmoid(value)\n",
    "\n",
    "    # Penalty function for space constrains\n",
    "    def pnf1(self, value, alpha):\n",
    "        return 50 * alpha * torch.relu(value)\n",
    "\n",
    "    # Penalty function for selection constrains\n",
    "    def pnf2(self, value):\n",
    "        return 50 * value ** 2\n",
    "\n",
    "    # Penalty function for priority constrains\n",
    "    def pnf3(self, value, alpha):\n",
    "        return torch.clamp(alpha * value, min=0)\n",
    "\n",
    "    # Function to create a matrix that identify product\n",
    "    def create_product_identify_matrix(self, product_id):\n",
    "        product_id = product_id.flatten()\n",
    "        unique_ids, inverse_indices = torch.unique(product_id, return_inverse=True)\n",
    "        C = torch.zeros(len(unique_ids), len(product_id), dtype=torch.float32, device=self.device)\n",
    "        C[inverse_indices, torch.arange(len(product_id), device=self.device)] = 1\n",
    "        return C\n",
    "\n",
    "    # Model computation with parameter tuning\n",
    "    def forward(self):\n",
    "\n",
    "        t0 = time.time()\n",
    "\n",
    "        print(f\"==========================================================\")\n",
    "        print(f\"Solving Store ID : {self.stor_idnt}\")\n",
    "\n",
    "        # Create identification vectors\n",
    "        C = self.create_product_identify_matrix(self.prod_idnt)\n",
    "\n",
    "        n_option = len(self.prod_idnt)\n",
    "        n_product = len(C)\n",
    "\n",
    "        # Initialize selection variable\n",
    "        V = torch.full((n_option,), 0.5, dtype=torch.float32, device=self.device)\n",
    "\n",
    "        # Initialize penalization parameter (alpha) and perform parameter tuning\n",
    "        initial_alpha = self.alpha\n",
    "        max_iter = 10 \n",
    "        V_best = V.clone()  \n",
    "        U_best = float('-inf')  \n",
    "        U_tolr = 0.01 \n",
    "\n",
    "        for iter in range(1, max_iter + 1):\n",
    "\n",
    "            print(f\"Solving Iteration {iter}.\")\n",
    "            \n",
    "            # Set the penalization parameter for each tuning iteration\n",
    "            current_alpha = initial_alpha / iter\n",
    "\n",
    "            # For each iteration\n",
    "            for t in tqdm(range(self.rep), desc=\"Solving Epochs\"):\n",
    "\n",
    "                # Penalization parameter\n",
    "                T = self.T_List[t]\n",
    "\n",
    "                # Training for each option with shuffled indices\n",
    "                for i in torch.randperm(n_option):\n",
    "                    V1 = V.clone()\n",
    "                    V0 = V.clone()\n",
    "                    V1[i] = 1\n",
    "                    V0[i] = 0\n",
    "\n",
    "                    # 1. Penalize inequality constraints\n",
    "                    # (1) Special zone constraint\n",
    "                    if self.is_solve_special_zone:\n",
    "                        PartA = self.pnf1(((self.prod_spco * self.prod_sztg) @ V1 - self.stor_spcs), alpha=current_alpha) - \\\n",
    "                                self.pnf1(((self.prod_spco * self.prod_sztg) @ V0 - self.stor_spcs), alpha=current_alpha)\n",
    "                        PartB = self.pnf1(((self.prod_spco * self.prod_sztn) @ V1 - (self.stor_spco - (self.prod_spco * self.prod_sztg) @ V1)), alpha=current_alpha) - \\\n",
    "                                self.pnf1(((self.prod_spco * self.prod_sztn) @ V0 - (self.stor_spco - (self.prod_spco * self.prod_sztg) @ V0)), alpha=current_alpha)\n",
    "                    else:\n",
    "                        PartA = self.pnf1((self.prod_spco @ V1 - self.stor_spcs), alpha=current_alpha) - \\\n",
    "                                self.pnf1((self.prod_spco @ V0 - self.stor_spcs), alpha=current_alpha)\n",
    "                        PartB = 0\n",
    "                    \n",
    "                    # (2) Space constraint\n",
    "                    if self.is_solve_opt_priority:\n",
    "                        diff1 = (C * self.prod_optg) @ V1\n",
    "                        diff0 = (C * self.prod_optg) @ V0\n",
    "                        PartC = 2 * torch.sum(self.pnf3((diff1.unsqueeze(1) - diff1.unsqueeze(0) - 1), alpha=current_alpha)) - \\\n",
    "                                2 * torch.sum(self.pnf3((diff0.unsqueeze(1) - diff0.unsqueeze(0) - 1), alpha=current_alpha))\n",
    "                    else:\n",
    "                        PartC = 0\n",
    "\n",
    "                    # 2. Penalize equality constraints\n",
    "                    # (4) Selection constraint\n",
    "                    PartD = torch.sum(self.pnf2(C @ V1 - 1)) - \\\n",
    "                            torch.sum(self.pnf2(C @ V0 - 1))\n",
    "                    \n",
    "                    # Calculate the penalization function and final selection result\n",
    "                    V[i] = self.sigmoid((-1 / T) * (-self.prod_kpic[i] + (current_alpha / T) * (PartA + PartB + PartC + PartD)))\n",
    "\n",
    "            # Compute U after tuning iteration\n",
    "            U = torch.sum(self.prod_kpic * V)\n",
    "\n",
    "            # If U improves, update the best U and tuned selection variable\n",
    "            if U > U_best:\n",
    "                U_best = U\n",
    "                V_best = V.clone()\n",
    "\n",
    "            # Check if stopping condition is met\n",
    "            if abs(U - U_best) < U_tolr:\n",
    "                break\n",
    "        \n",
    "        print(f\"Finish. Time used: {round((time.time()-t0)/60,2)} minutes.\")\n",
    "        print(f\"==========================================================\")\n",
    "        print()\n",
    "\n",
    "        # Return the tuned selection variable\n",
    "        return V_best"
   ]
  },
  {
   "cell_type": "markdown",
   "metadata": {},
   "source": [
    "### 4. Solving the Problem with Model"
   ]
  },
  {
   "cell_type": "code",
   "execution_count": null,
   "metadata": {},
   "outputs": [],
   "source": [
    "t0 = time.time()\n",
    "\n",
    "for i in range(len(data)):\n",
    "\n",
    "    try:\n",
    "        hnn_model = HNNKnapsackYT(data = data[str(i)], alpha = 0.1, rep = 1000)\n",
    "        result = hnn_model()\n",
    "        data[str(i)][\"solution\"] = result.tolist()\n",
    "\n",
    "    except:\n",
    "        pass"
   ]
  },
  {
   "cell_type": "code",
   "execution_count": null,
   "metadata": {},
   "outputs": [],
   "source": [
    "with open(\"data/data3b.json\", \"w\") as json_file:\n",
    "    json.dump(data, json_file, indent=4, ensure_ascii=False) "
   ]
  }
 ],
 "metadata": {
  "kernelspec": {
   "display_name": "base",
   "language": "python",
   "name": "python3"
  },
  "language_info": {
   "codemirror_mode": {
    "name": "ipython",
    "version": 3
   },
   "file_extension": ".py",
   "mimetype": "text/x-python",
   "name": "python",
   "nbconvert_exporter": "python",
   "pygments_lexer": "ipython3",
   "version": "3.12.3"
  }
 },
 "nbformat": 4,
 "nbformat_minor": 4
}
