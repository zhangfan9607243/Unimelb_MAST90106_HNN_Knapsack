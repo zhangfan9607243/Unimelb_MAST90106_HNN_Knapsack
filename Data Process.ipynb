{
 "cells": [
  {
   "cell_type": "markdown",
   "metadata": {},
   "source": [
    "# HNN Knapsack"
   ]
  },
  {
   "cell_type": "markdown",
   "metadata": {},
   "source": [
    "## Section 1: Data Process"
   ]
  },
  {
   "cell_type": "markdown",
   "metadata": {},
   "source": [
    "### 1. Load Packages"
   ]
  },
  {
   "cell_type": "code",
   "execution_count": 43,
   "metadata": {},
   "outputs": [],
   "source": [
    "import numpy as np\n",
    "import pandas as pd\n",
    "import math\n",
    "import time\n",
    "import json"
   ]
  },
  {
   "cell_type": "markdown",
   "metadata": {},
   "source": [
    "### 2. Read Original Data"
   ]
  },
  {
   "cell_type": "code",
   "execution_count": null,
   "metadata": {},
   "outputs": [],
   "source": [
    "data = pd.read_csv(\"data/data1.csv\")\n",
    "data['KPI_C'] = data['KPI_1'] - data['KPI_2']"
   ]
  },
  {
   "cell_type": "markdown",
   "metadata": {},
   "source": [
    "### 3. Process Data and Save Data as JSON"
   ]
  },
  {
   "cell_type": "code",
   "execution_count": 46,
   "metadata": {},
   "outputs": [],
   "source": [
    "result_dict = dict()"
   ]
  },
  {
   "cell_type": "code",
   "execution_count": 47,
   "metadata": {},
   "outputs": [],
   "source": [
    "for i in range(data[\"STORE_ID_DUMMY\"].max()):\n",
    "\n",
    "    data_stor = data[data[\"STORE_ID_DUMMY\"] == i]\n",
    "\n",
    "    prod_idnt = data_stor['PRODUCT_ID_DUMMY'].tolist()\n",
    "    prod_spco = data_stor['SPACE_VALUE'].tolist()\n",
    "    prod_kpi1 = data_stor['KPI_1'].tolist()\n",
    "    prod_kpi2 = data_stor['KPI_2'].tolist()\n",
    "    prod_kpic = data_stor['KPI_C'].tolist()\n",
    "    prod_optg = data_stor['opt_priority'].tolist()\n",
    "    prod_sztg = np.nan_to_num(list(data_stor[\"SPECIAL_ZONE_TAG\"])).tolist()\n",
    "    prod_sztn = (1 - np.nan_to_num(list(data_stor[\"SPECIAL_ZONE_TAG\"]))).tolist()\n",
    "    stor_spco = int(np.nan_to_num(data_stor['STORE_SPACE_TO_OPTIMISE']).max()) \n",
    "    stor_spcs = int(np.nan_to_num(data_stor['STORE_SPACE_TO_OPTIMISE_SPECIAL_ZONE']).max()) \n",
    "\n",
    "    stor_dict = {'stor_idnt':i,\n",
    "                 'stor_spco':stor_spco,\n",
    "                 'stor_spcs':stor_spcs,\n",
    "                 'prod_idnt':prod_idnt,\n",
    "                 'prod_spco':prod_spco,\n",
    "                 'prod_kpi1':prod_kpi1,\n",
    "                 'prod_kpi2':prod_kpi2,\n",
    "                 'prod_kpic':prod_kpic,\n",
    "                 'prod_optg':prod_optg,\n",
    "                 'prod_sztg':prod_sztg,\n",
    "                 'prod_sztn':prod_sztn}\n",
    "    \n",
    "    result_dict[i] = stor_dict"
   ]
  },
  {
   "cell_type": "code",
   "execution_count": 48,
   "metadata": {},
   "outputs": [],
   "source": [
    "with open(\"data/data2.json\", \"w\") as json_file:\n",
    "    json.dump(result_dict, json_file, indent=4, ensure_ascii=False) "
   ]
  }
 ],
 "metadata": {
  "kernelspec": {
   "display_name": "base",
   "language": "python",
   "name": "python3"
  },
  "language_info": {
   "codemirror_mode": {
    "name": "ipython",
    "version": 3
   },
   "file_extension": ".py",
   "mimetype": "text/x-python",
   "name": "python",
   "nbconvert_exporter": "python",
   "pygments_lexer": "ipython3",
   "version": "3.12.3"
  }
 },
 "nbformat": 4,
 "nbformat_minor": 2
}
